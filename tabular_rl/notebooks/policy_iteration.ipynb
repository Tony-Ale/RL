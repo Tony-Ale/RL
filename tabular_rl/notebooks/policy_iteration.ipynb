{
 "cells": [
  {
   "cell_type": "code",
   "execution_count": null,
   "id": "88b30add",
   "metadata": {},
   "outputs": [],
   "source": [
    "import sys\n",
    "import os \n",
    "sys.path.append(os.path.abspath('..'))"
   ]
  },
  {
   "cell_type": "code",
   "execution_count": null,
   "id": "38b67438",
   "metadata": {},
   "outputs": [],
   "source": [
    "from environments.grid_world import GridworldEnv\n",
    "from algorithms.policy_iteration import policy_iteration\n",
    "import matplotlib.pyplot as plt\n",
    "import numpy as np"
   ]
  },
  {
   "cell_type": "code",
   "execution_count": null,
   "id": "7a907e10",
   "metadata": {},
   "outputs": [],
   "source": [
    "# Cell 3: create env and render initial state\n",
    "env = GridworldEnv(width=4, height=4, start=(0,0), goals=[(3,3), (0, 0)],\n",
    "                   step_reward=-1, goal_reward=-1, seed=123)\n",
    "\n",
    "# Reset and print a few pieces of information\n",
    "init_state = env.reset()\n",
    "print(\"Initial state (row,col):\", init_state)\n",
    "print(\"Initial state index:\", env.state_to_index(init_state))\n",
    "print(\"Goal:\", env.goals, \"Goal index:\", [env.state_to_index(goal) for goal in env.goals])\n",
    "\n",
    "# Render to inspect visually\n",
    "env.render()"
   ]
  },
  {
   "cell_type": "code",
   "execution_count": null,
   "id": "542f9ebb",
   "metadata": {},
   "outputs": [],
   "source": [
    "policy, Vs, Vs_history = policy_iteration(env)"
   ]
  },
  {
   "cell_type": "code",
   "execution_count": null,
   "id": "3ce12a2b",
   "metadata": {},
   "outputs": [],
   "source": [
    "plt.figure(figsize=(5,4))\n",
    "im = plt.imshow(Vs, origin='upper', interpolation='nearest')\n",
    "plt.colorbar(im, label='State value V(s)')\n",
    "plt.title(\"State-value function V(s) under uniform random policy\")\n",
    "# annotate values\n",
    "for r in range(env.height):\n",
    "  for c in range(env.width):\n",
    "    plt.text(c, r, f\"{Vs[r,c]:.2f}\", ha='center', va='center', fontsize=8, color='white' if Vs[r,c] < Vs.max()/2 else 'black')\n",
    "plt.tight_layout()\n",
    "plt.show()"
   ]
  },
  {
   "cell_type": "code",
   "execution_count": null,
   "id": "f1e80710",
   "metadata": {},
   "outputs": [],
   "source": [
    "# Stack into a 2D array: shape (iterations, states)\n",
    "Vs_array = np.vstack(Vs_history)\n",
    "\n",
    "# Plot each state's value across iterations\n",
    "num_states = Vs_array.shape[1]\n",
    "iterations = np.arange(Vs_array.shape[0])\n",
    "\n",
    "for s in range(num_states):\n",
    "    plt.plot(iterations, Vs_array[:, s], marker='o', label=f\"State {s}\")\n",
    "\n",
    "plt.xlabel(\"Iteration\")\n",
    "plt.ylabel(\"State Value\")\n",
    "plt.title(\"State Value Convergence Across Iterations\")\n",
    "plt.legend(loc='center left', bbox_to_anchor=(1, 0.5))\n",
    "plt.tight_layout()\n",
    "#plt.legend()\n",
    "plt.grid(True)\n",
    "plt.tight_layout()\n",
    "plt.show()"
   ]
  },
  {
   "cell_type": "code",
   "execution_count": null,
   "id": "a8d27492",
   "metadata": {},
   "outputs": [],
   "source": [
    "# Using max change in V to track convergence\n",
    "deltas = []\n",
    "for k in range(1, len(Vs_history)):\n",
    "    delta = np.max(np.abs(Vs_history[k] - Vs_history[k-1]))\n",
    "    deltas.append(delta)"
   ]
  },
  {
   "cell_type": "code",
   "execution_count": null,
   "id": "fcee0ec5",
   "metadata": {},
   "outputs": [],
   "source": [
    "plt.figure(figsize=(6,4))\n",
    "plt.plot(range(1, len(deltas)+1), deltas, marker='o')\n",
    "plt.yscale('log')  # log scale often makes convergence clearer\n",
    "plt.xlabel('Policy Iteration Step')\n",
    "plt.ylabel('Max ΔV')\n",
    "plt.title('Policy Iteration Convergence (GridWorld)')\n",
    "plt.grid(True)\n",
    "plt.show()\n"
   ]
  },
  {
   "cell_type": "code",
   "execution_count": null,
   "id": "719dc1a8",
   "metadata": {},
   "outputs": [],
   "source": [
    "rates = [deltas[k+1]/deltas[k] for k in range(len(deltas)-1)]\n",
    "mean_rate = np.mean(rates)\n",
    "print(f\"Approximate mean linear convergence ratio: {mean_rate:.4f}\")"
   ]
  },
  {
   "cell_type": "code",
   "execution_count": null,
   "id": "a4021d7b",
   "metadata": {},
   "outputs": [],
   "source": []
  }
 ],
 "metadata": {
  "kernelspec": {
   "display_name": ".venv",
   "language": "python",
   "name": "python3"
  },
  "language_info": {
   "codemirror_mode": {
    "name": "ipython",
    "version": 3
   },
   "file_extension": ".py",
   "mimetype": "text/x-python",
   "name": "python",
   "nbconvert_exporter": "python",
   "pygments_lexer": "ipython3",
   "version": "3.12.1"
  }
 },
 "nbformat": 4,
 "nbformat_minor": 5
}
